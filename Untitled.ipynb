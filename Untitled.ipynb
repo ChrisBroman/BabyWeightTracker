{
 "cells": [
  {
   "cell_type": "code",
   "execution_count": 12,
   "id": "f47af3da-5b8d-444c-bcb4-8592f20c4dc8",
   "metadata": {},
   "outputs": [],
   "source": [
    "import pandas as pd\n",
    "import openpyxl\n",
    "import scipy.stats as stats"
   ]
  },
  {
   "cell_type": "code",
   "execution_count": 4,
   "id": "d227dfe6-36cf-4dc7-afbd-7e218ddd0a08",
   "metadata": {},
   "outputs": [],
   "source": [
    "df = pd.read_excel('percentiles.xlsx')"
   ]
  },
  {
   "cell_type": "code",
   "execution_count": 9,
   "id": "d635e5d1-687d-44a2-a055-1fb0e5709b2e",
   "metadata": {},
   "outputs": [
    {
     "data": {
      "text/plain": [
       "0.3487"
      ]
     },
     "execution_count": 9,
     "metadata": {},
     "output_type": "execute_result"
    }
   ],
   "source": [
    "df.iloc[0]['L']"
   ]
  },
  {
   "cell_type": "code",
   "execution_count": 14,
   "id": "28ae04d5-f8aa-4ffa-8390-9027f8930089",
   "metadata": {},
   "outputs": [],
   "source": [
    "def get_z_score(month, weight):\n",
    "    df = pd.read_excel('percentiles.xlsx')\n",
    "    L = df.iloc[month]['L']\n",
    "    M = df.iloc[month]['M']\n",
    "    S = df.iloc[month]['S']\n",
    "    \n",
    "    #Z-score = [(3.26/3.3464)^0.3487 - 1] / (0.3487 * 0.14602) ≈ -0.44\n",
    "    #Z-score = [(weight/M)^L - 1] / (L * S)\n",
    "    z_score = ((weight / M) ** L - 1) / (L * S)\n",
    "    print(z_score)\n",
    "    return z_score\n"
   ]
  },
  {
   "cell_type": "code",
   "execution_count": 15,
   "id": "7cc4da7d-9f4f-498f-b183-613c725adda5",
   "metadata": {},
   "outputs": [
    {
     "name": "stdout",
     "output_type": "stream",
     "text": [
      "-0.17832496053688807\n"
     ]
    },
    {
     "data": {
      "text/plain": [
       "-0.17832496053688807"
      ]
     },
     "execution_count": 15,
     "metadata": {},
     "output_type": "execute_result"
    }
   ],
   "source": [
    "get_z_score(0, 3.26)"
   ]
  },
  {
   "cell_type": "code",
   "execution_count": 17,
   "id": "ebf4a017-e84d-4722-b454-f1834a529efe",
   "metadata": {},
   "outputs": [
    {
     "name": "stdout",
     "output_type": "stream",
     "text": [
      "-0.17832496053688807\n"
     ]
    }
   ],
   "source": [
    "zscore = get_z_score(0, 3.26)"
   ]
  },
  {
   "cell_type": "code",
   "execution_count": 18,
   "id": "a9965cbf-e3e5-4a3e-8668-ef3b161970d5",
   "metadata": {},
   "outputs": [],
   "source": [
    "def z_score_to_percentile(z_score):\n",
    "    percentile = stats.norm.cdf(z_score) * 100\n",
    "    return percentile"
   ]
  },
  {
   "cell_type": "code",
   "execution_count": 22,
   "id": "7cbda3eb-da46-4f40-a34e-1b5291dd9026",
   "metadata": {},
   "outputs": [],
   "source": [
    "percentile = z_score_to_percentile(zscore)"
   ]
  },
  {
   "cell_type": "code",
   "execution_count": 23,
   "id": "b0639c5b-e178-4478-b14b-538f44d65e70",
   "metadata": {},
   "outputs": [
    {
     "name": "stdout",
     "output_type": "stream",
     "text": [
      "42.92338886475895\n"
     ]
    }
   ],
   "source": [
    "print(percentile)"
   ]
  }
 ],
 "metadata": {
  "kernelspec": {
   "display_name": "Python 3 (ipykernel)",
   "language": "python",
   "name": "python3"
  },
  "language_info": {
   "codemirror_mode": {
    "name": "ipython",
    "version": 3
   },
   "file_extension": ".py",
   "mimetype": "text/x-python",
   "name": "python",
   "nbconvert_exporter": "python",
   "pygments_lexer": "ipython3",
   "version": "3.10.6"
  }
 },
 "nbformat": 4,
 "nbformat_minor": 5
}
